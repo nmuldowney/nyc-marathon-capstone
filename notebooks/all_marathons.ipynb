{
 "cells": [
  {
   "cell_type": "code",
   "execution_count": 48,
   "metadata": {},
   "outputs": [],
   "source": [
    "import pandas as pd"
   ]
  },
  {
   "cell_type": "code",
   "execution_count": 49,
   "metadata": {},
   "outputs": [],
   "source": [
    "nyc_2015 = pd.read_csv('../data/nyc2015.csv')\n",
    "nyc_2016 = pd.read_csv('../data/nyc2016.csv')\n",
    "nyc_2017 = pd.read_csv('../data/nyc2017.csv')\n",
    "nyc_2018 = pd.read_csv('../data/nyc2018.csv')\n",
    "nyc_2019 = pd.read_csv('../data/nyc2019.csv')"
   ]
  },
  {
   "cell_type": "code",
   "execution_count": 50,
   "metadata": {},
   "outputs": [],
   "source": [
    "#add year column to each race\n",
    "nyc_2015['year'] = '2015'\n",
    "nyc_2016['year'] = '2016'\n",
    "nyc_2017['year'] = '2017'\n",
    "nyc_2018['year'] = '2018'\n",
    "nyc_2019['year'] = '2019'"
   ]
  },
  {
   "cell_type": "code",
   "execution_count": 51,
   "metadata": {},
   "outputs": [
    {
     "name": "stdout",
     "output_type": "stream",
     "text": [
      "<class 'pandas.core.frame.DataFrame'>\n",
      "RangeIndex: 10000 entries, 0 to 9999\n",
      "Data columns (total 21 columns):\n",
      " #   Column           Non-Null Count  Dtype  \n",
      "---  ------           --------------  -----  \n",
      " 0   Unnamed: 0       10000 non-null  int64  \n",
      " 1   runnerId         10000 non-null  int64  \n",
      " 2   firstName        10000 non-null  object \n",
      " 3   lastName         10000 non-null  object \n",
      " 4   bib              10000 non-null  int64  \n",
      " 5   age              10000 non-null  int64  \n",
      " 6   birthdate        10000 non-null  object \n",
      " 7   gender           10000 non-null  object \n",
      " 8   city             9999 non-null   object \n",
      " 9   countryCode      10000 non-null  object \n",
      " 10  stateProvince    5366 non-null   object \n",
      " 11  iaaf             10000 non-null  object \n",
      " 12  overallPlace     10000 non-null  int64  \n",
      " 13  overallTime      10000 non-null  object \n",
      " 14  pace             10000 non-null  object \n",
      " 15  genderPlace      10000 non-null  int64  \n",
      " 16  ageGradeTime     10000 non-null  object \n",
      " 17  ageGradePlace    10000 non-null  int64  \n",
      " 18  ageGradePercent  10000 non-null  float64\n",
      " 19  racesCount       10000 non-null  int64  \n",
      " 20  year             10000 non-null  object \n",
      "dtypes: float64(1), int64(8), object(12)\n",
      "memory usage: 1.6+ MB\n"
     ]
    }
   ],
   "source": [
    "nyc_2015.info()"
   ]
  },
  {
   "cell_type": "code",
   "execution_count": 52,
   "metadata": {},
   "outputs": [
    {
     "name": "stdout",
     "output_type": "stream",
     "text": [
      "(10000, 21)\n",
      "(10000, 21)\n",
      "(10000, 21)\n",
      "(10000, 21)\n",
      "(10000, 21)\n"
     ]
    }
   ],
   "source": [
    "#confirming first 10k per year\n",
    "print(nyc_2015.shape)\n",
    "print(nyc_2016.shape)\n",
    "print(nyc_2017.shape)\n",
    "print(nyc_2018.shape)\n",
    "print(nyc_2019.shape)"
   ]
  },
  {
   "cell_type": "code",
   "execution_count": 53,
   "metadata": {},
   "outputs": [
    {
     "data": {
      "text/plain": [
       "Unnamed: 0                        3034\n",
       "runnerId                      19788849\n",
       "firstName                       Nicole\n",
       "lastName                     Muldowney\n",
       "bib                               6244\n",
       "age                                 26\n",
       "birthdate          1990-06-13T00:00:00\n",
       "gender                               F\n",
       "city                        Birmingham\n",
       "countryCode                        USA\n",
       "stateProvince                       AL\n",
       "iaaf                               USA\n",
       "overallPlace                      3035\n",
       "overallTime                    3:22:04\n",
       "pace                             07:43\n",
       "genderPlace                        377\n",
       "ageGradeTime                     22:04\n",
       "ageGradePlace                      923\n",
       "ageGradePercent                  67.02\n",
       "racesCount                           2\n",
       "year                              2016\n",
       "Name: 3034, dtype: object"
      ]
     },
     "execution_count": 53,
     "metadata": {},
     "output_type": "execute_result"
    }
   ],
   "source": [
    "nyc_2016.loc[3034]"
   ]
  },
  {
   "cell_type": "code",
   "execution_count": 54,
   "metadata": {},
   "outputs": [],
   "source": [
    "#concat all race files\n",
    "nyc_races = pd.concat([nyc_2015, nyc_2016,nyc_2017,nyc_2018,nyc_2019], axis=0)"
   ]
  },
  {
   "cell_type": "code",
   "execution_count": 55,
   "metadata": {},
   "outputs": [
    {
     "data": {
      "text/html": [
       "<div>\n",
       "<style scoped>\n",
       "    .dataframe tbody tr th:only-of-type {\n",
       "        vertical-align: middle;\n",
       "    }\n",
       "\n",
       "    .dataframe tbody tr th {\n",
       "        vertical-align: top;\n",
       "    }\n",
       "\n",
       "    .dataframe thead th {\n",
       "        text-align: right;\n",
       "    }\n",
       "</style>\n",
       "<table border=\"1\" class=\"dataframe\">\n",
       "  <thead>\n",
       "    <tr style=\"text-align: right;\">\n",
       "      <th></th>\n",
       "      <th>Unnamed: 0</th>\n",
       "      <th>runnerId</th>\n",
       "      <th>firstName</th>\n",
       "      <th>lastName</th>\n",
       "      <th>bib</th>\n",
       "      <th>age</th>\n",
       "      <th>birthdate</th>\n",
       "      <th>gender</th>\n",
       "      <th>city</th>\n",
       "      <th>countryCode</th>\n",
       "      <th>...</th>\n",
       "      <th>iaaf</th>\n",
       "      <th>overallPlace</th>\n",
       "      <th>overallTime</th>\n",
       "      <th>pace</th>\n",
       "      <th>genderPlace</th>\n",
       "      <th>ageGradeTime</th>\n",
       "      <th>ageGradePlace</th>\n",
       "      <th>ageGradePercent</th>\n",
       "      <th>racesCount</th>\n",
       "      <th>year</th>\n",
       "    </tr>\n",
       "  </thead>\n",
       "  <tbody>\n",
       "    <tr>\n",
       "      <th>0</th>\n",
       "      <td>0</td>\n",
       "      <td>16619869</td>\n",
       "      <td>Stanley</td>\n",
       "      <td>Biwott</td>\n",
       "      <td>5</td>\n",
       "      <td>29</td>\n",
       "      <td>1986-04-21T00:00:00</td>\n",
       "      <td>M</td>\n",
       "      <td>Eldoret</td>\n",
       "      <td>KEN</td>\n",
       "      <td>...</td>\n",
       "      <td>KEN</td>\n",
       "      <td>1</td>\n",
       "      <td>2:10:34</td>\n",
       "      <td>04:59</td>\n",
       "      <td>1</td>\n",
       "      <td>10:34</td>\n",
       "      <td>2</td>\n",
       "      <td>94.18</td>\n",
       "      <td>2</td>\n",
       "      <td>2015</td>\n",
       "    </tr>\n",
       "    <tr>\n",
       "      <th>1</th>\n",
       "      <td>1</td>\n",
       "      <td>16654079</td>\n",
       "      <td>Geoffery</td>\n",
       "      <td>Kamworor</td>\n",
       "      <td>6</td>\n",
       "      <td>22</td>\n",
       "      <td>1992-11-22T00:00:00</td>\n",
       "      <td>M</td>\n",
       "      <td>Kapchorwa District</td>\n",
       "      <td>KEN</td>\n",
       "      <td>...</td>\n",
       "      <td>KEN</td>\n",
       "      <td>2</td>\n",
       "      <td>2:10:48</td>\n",
       "      <td>05:00</td>\n",
       "      <td>2</td>\n",
       "      <td>10:48</td>\n",
       "      <td>3</td>\n",
       "      <td>94.00</td>\n",
       "      <td>4</td>\n",
       "      <td>2015</td>\n",
       "    </tr>\n",
       "    <tr>\n",
       "      <th>2</th>\n",
       "      <td>2</td>\n",
       "      <td>16611443</td>\n",
       "      <td>Lelisa</td>\n",
       "      <td>Desisa</td>\n",
       "      <td>2</td>\n",
       "      <td>25</td>\n",
       "      <td>1990-01-14T00:00:00</td>\n",
       "      <td>M</td>\n",
       "      <td>Addis Ababa</td>\n",
       "      <td>ETH</td>\n",
       "      <td>...</td>\n",
       "      <td>ETH</td>\n",
       "      <td>3</td>\n",
       "      <td>2:12:10</td>\n",
       "      <td>05:03</td>\n",
       "      <td>3</td>\n",
       "      <td>12:10</td>\n",
       "      <td>4</td>\n",
       "      <td>93.03</td>\n",
       "      <td>5</td>\n",
       "      <td>2015</td>\n",
       "    </tr>\n",
       "    <tr>\n",
       "      <th>3</th>\n",
       "      <td>3</td>\n",
       "      <td>16616462</td>\n",
       "      <td>Wilson</td>\n",
       "      <td>Kipsang</td>\n",
       "      <td>1</td>\n",
       "      <td>33</td>\n",
       "      <td>1982-03-15T00:00:00</td>\n",
       "      <td>M</td>\n",
       "      <td>Iten</td>\n",
       "      <td>KEN</td>\n",
       "      <td>...</td>\n",
       "      <td>KEN</td>\n",
       "      <td>4</td>\n",
       "      <td>2:12:45</td>\n",
       "      <td>05:04</td>\n",
       "      <td>4</td>\n",
       "      <td>12:36</td>\n",
       "      <td>5</td>\n",
       "      <td>92.73</td>\n",
       "      <td>5</td>\n",
       "      <td>2015</td>\n",
       "    </tr>\n",
       "    <tr>\n",
       "      <th>4</th>\n",
       "      <td>4</td>\n",
       "      <td>16654080</td>\n",
       "      <td>Yemane</td>\n",
       "      <td>Tsegay</td>\n",
       "      <td>7</td>\n",
       "      <td>30</td>\n",
       "      <td>1985-04-08T00:00:00</td>\n",
       "      <td>M</td>\n",
       "      <td>Addis Ababa</td>\n",
       "      <td>ETH</td>\n",
       "      <td>...</td>\n",
       "      <td>ETH</td>\n",
       "      <td>5</td>\n",
       "      <td>2:13:24</td>\n",
       "      <td>05:06</td>\n",
       "      <td>5</td>\n",
       "      <td>13:24</td>\n",
       "      <td>6</td>\n",
       "      <td>92.18</td>\n",
       "      <td>1</td>\n",
       "      <td>2015</td>\n",
       "    </tr>\n",
       "  </tbody>\n",
       "</table>\n",
       "<p>5 rows × 21 columns</p>\n",
       "</div>"
      ],
      "text/plain": [
       "   Unnamed: 0  runnerId firstName  lastName  bib  age            birthdate  \\\n",
       "0           0  16619869   Stanley    Biwott    5   29  1986-04-21T00:00:00   \n",
       "1           1  16654079  Geoffery  Kamworor    6   22  1992-11-22T00:00:00   \n",
       "2           2  16611443    Lelisa    Desisa    2   25  1990-01-14T00:00:00   \n",
       "3           3  16616462    Wilson   Kipsang    1   33  1982-03-15T00:00:00   \n",
       "4           4  16654080    Yemane    Tsegay    7   30  1985-04-08T00:00:00   \n",
       "\n",
       "  gender                city countryCode  ... iaaf overallPlace  overallTime  \\\n",
       "0      M             Eldoret         KEN  ...  KEN            1      2:10:34   \n",
       "1      M  Kapchorwa District         KEN  ...  KEN            2      2:10:48   \n",
       "2      M         Addis Ababa         ETH  ...  ETH            3      2:12:10   \n",
       "3      M                Iten         KEN  ...  KEN            4      2:12:45   \n",
       "4      M         Addis Ababa         ETH  ...  ETH            5      2:13:24   \n",
       "\n",
       "    pace genderPlace  ageGradeTime ageGradePlace  ageGradePercent  racesCount  \\\n",
       "0  04:59           1         10:34             2            94.18           2   \n",
       "1  05:00           2         10:48             3            94.00           4   \n",
       "2  05:03           3         12:10             4            93.03           5   \n",
       "3  05:04           4         12:36             5            92.73           5   \n",
       "4  05:06           5         13:24             6            92.18           1   \n",
       "\n",
       "   year  \n",
       "0  2015  \n",
       "1  2015  \n",
       "2  2015  \n",
       "3  2015  \n",
       "4  2015  \n",
       "\n",
       "[5 rows x 21 columns]"
      ]
     },
     "execution_count": 55,
     "metadata": {},
     "output_type": "execute_result"
    }
   ],
   "source": [
    "nyc_races.head()"
   ]
  },
  {
   "cell_type": "code",
   "execution_count": 58,
   "metadata": {},
   "outputs": [
    {
     "data": {
      "text/plain": [
       "Index(['runnerId', 'firstName', 'lastName', 'age', 'birthdate', 'gender',\n",
       "       'city', 'countryCode', 'stateProvince', 'iaaf', 'overallPlace',\n",
       "       'overallTime', 'pace', 'genderPlace', 'ageGradeTime', 'ageGradePlace',\n",
       "       'ageGradePercent', 'racesCount', 'year'],\n",
       "      dtype='object')"
      ]
     },
     "execution_count": 58,
     "metadata": {},
     "output_type": "execute_result"
    }
   ],
   "source": [
    "#remove/drop columns that are not needed: Unnamed: 0 for now (Maybe later: ageGradeTime, ageGradePlace, ageGradePercent,racesCount) \n",
    "nyc_races = nyc_races.drop(columns = ['Unnamed: 0','bib'], axis=1)\n",
    "nyc_races.columns"
   ]
  },
  {
   "cell_type": "code",
   "execution_count": 59,
   "metadata": {},
   "outputs": [
    {
     "data": {
      "text/plain": [
       "count    50000.000000\n",
       "mean        64.228865\n",
       "std          6.600073\n",
       "min         52.590000\n",
       "25%         59.270000\n",
       "50%         63.370000\n",
       "75%         68.500000\n",
       "max         97.600000\n",
       "Name: ageGradePercent, dtype: float64"
      ]
     },
     "execution_count": 59,
     "metadata": {},
     "output_type": "execute_result"
    }
   ],
   "source": [
    "nyc_races['ageGradePercent'].describe()"
   ]
  },
  {
   "cell_type": "code",
   "execution_count": 60,
   "metadata": {},
   "outputs": [
    {
     "data": {
      "text/html": [
       "<div>\n",
       "<style scoped>\n",
       "    .dataframe tbody tr th:only-of-type {\n",
       "        vertical-align: middle;\n",
       "    }\n",
       "\n",
       "    .dataframe tbody tr th {\n",
       "        vertical-align: top;\n",
       "    }\n",
       "\n",
       "    .dataframe thead th {\n",
       "        text-align: right;\n",
       "    }\n",
       "</style>\n",
       "<table border=\"1\" class=\"dataframe\">\n",
       "  <thead>\n",
       "    <tr style=\"text-align: right;\">\n",
       "      <th></th>\n",
       "      <th>runnerId</th>\n",
       "      <th>firstName</th>\n",
       "      <th>lastName</th>\n",
       "      <th>age</th>\n",
       "      <th>birthdate</th>\n",
       "      <th>gender</th>\n",
       "      <th>city</th>\n",
       "      <th>countryCode</th>\n",
       "      <th>stateProvince</th>\n",
       "      <th>iaaf</th>\n",
       "      <th>overallPlace</th>\n",
       "      <th>overallTime</th>\n",
       "      <th>pace</th>\n",
       "      <th>genderPlace</th>\n",
       "      <th>ageGradeTime</th>\n",
       "      <th>ageGradePlace</th>\n",
       "      <th>ageGradePercent</th>\n",
       "      <th>racesCount</th>\n",
       "      <th>year</th>\n",
       "    </tr>\n",
       "  </thead>\n",
       "  <tbody>\n",
       "    <tr>\n",
       "      <th>3034</th>\n",
       "      <td>19788849</td>\n",
       "      <td>Nicole</td>\n",
       "      <td>Muldowney</td>\n",
       "      <td>26</td>\n",
       "      <td>1990-06-13T00:00:00</td>\n",
       "      <td>F</td>\n",
       "      <td>Birmingham</td>\n",
       "      <td>USA</td>\n",
       "      <td>AL</td>\n",
       "      <td>USA</td>\n",
       "      <td>3035</td>\n",
       "      <td>3:22:04</td>\n",
       "      <td>07:43</td>\n",
       "      <td>377</td>\n",
       "      <td>22:04</td>\n",
       "      <td>923</td>\n",
       "      <td>67.02</td>\n",
       "      <td>2</td>\n",
       "      <td>2016</td>\n",
       "    </tr>\n",
       "  </tbody>\n",
       "</table>\n",
       "</div>"
      ],
      "text/plain": [
       "      runnerId firstName   lastName  age            birthdate gender  \\\n",
       "3034  19788849    Nicole  Muldowney   26  1990-06-13T00:00:00      F   \n",
       "\n",
       "            city countryCode stateProvince iaaf  overallPlace overallTime  \\\n",
       "3034  Birmingham         USA            AL  USA          3035     3:22:04   \n",
       "\n",
       "       pace  genderPlace ageGradeTime  ageGradePlace  ageGradePercent  \\\n",
       "3034  07:43          377        22:04            923            67.02   \n",
       "\n",
       "      racesCount  year  \n",
       "3034           2  2016  "
      ]
     },
     "execution_count": 60,
     "metadata": {},
     "output_type": "execute_result"
    }
   ],
   "source": [
    "nyc_races.loc[nyc_races['runnerId'] == 19788849]"
   ]
  },
  {
   "cell_type": "code",
   "execution_count": null,
   "metadata": {},
   "outputs": [],
   "source": [
    "#rename columns for usability/readability ...shorten names\n",
    "#fill null state rows? and 1 null city row?"
   ]
  },
  {
   "cell_type": "code",
   "execution_count": null,
   "metadata": {},
   "outputs": [],
   "source": [
    "#change Time to timedelta, remove birthdate time portion?"
   ]
  }
 ],
 "metadata": {
  "kernelspec": {
   "display_name": "Python 3",
   "language": "python",
   "name": "python3"
  },
  "language_info": {
   "codemirror_mode": {
    "name": "ipython",
    "version": 3
   },
   "file_extension": ".py",
   "mimetype": "text/x-python",
   "name": "python",
   "nbconvert_exporter": "python",
   "pygments_lexer": "ipython3",
   "version": "3.7.6"
  }
 },
 "nbformat": 4,
 "nbformat_minor": 4
}
